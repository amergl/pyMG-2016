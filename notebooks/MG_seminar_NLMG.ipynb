{
 "cells": [
  {
   "cell_type": "markdown",
   "metadata": {},
   "source": [
    "<center> \n",
    "<h1> Mehrgittermethoden </h1> \n",
    "<h2> Seminar </h2>\n",
    "<h3> Robert Speck & Dieter Moser, Sommersemester 2016 </h3>\n",
    "</center>\n",
    "___"
   ]
  },
  {
   "cell_type": "markdown",
   "metadata": {},
   "source": [
    "### Mehrgitter für nicht-lineare Funktionen ###\n",
    "\n",
    "Implementieren Sie sowohl Newton-Mehrgitter und FAS-Mehrgitter in Python. Sie können dafür die Struktur von `pyMG` benutzen, müssen dies aber nicht tun. Dokumentieren Sie den Code angemessen und schreiben Sie geeignete Tests für `nose`. Teilen Sie die Arbeit geeignet auf: Ziel dieser erweiterten Übungsaufgabe ist es auch, gemeinschaftliche Software-Entwicklung zu lernen.\n",
    "\n",
    "Vergleichen Sie beide Ansätze für folgendes Modell-Problem:\n",
    "\n",
    "$$-\\Delta u(x,y) + \\gamma u(x,y) e^{u(x,y)} = f(x,y),\\quad (x,y)\\in[0,1]^2,$$\n",
    "$$u(x,y) = 0,\\quad (x,y)\\in\\partial[0,1]^2$$\n",
    "\n",
    "Folgen Sie bei den numerischen Tests von Kapitel 5 aus \"MULTIGRID METHODS FOR NONLINEAR PROBLEMS: AN OVERVIEW\", siehe [hier](https://computation.llnl.gov/casc/people/henson/postscript/UCRL_JC_150259.pdf). Wählen Sie insbes. den Quellterm $f$ gemäß Gleichung (5.4).\n",
    "\n",
    "Erstellen Sie einen Release und reichen Sie den Link zum Release ein. Bereiten Sie außerdem eine ca. 30-minütige Vorstellung Ihres Programms vor, bei dem Sie uns Ihre Implementierung und die Ergebnisse der numerischen Tests erläutern. "
   ]
  }
 ],
 "metadata": {
  "kernelspec": {
   "display_name": "Python 3",
   "language": "python",
   "name": "python3"
  },
  "language_info": {
   "codemirror_mode": {
    "name": "ipython",
    "version": 3
   },
   "file_extension": ".py",
   "mimetype": "text/x-python",
   "name": "python",
   "nbconvert_exporter": "python",
   "pygments_lexer": "ipython3",
   "version": "3.4.4"
  }
 },
 "nbformat": 4,
 "nbformat_minor": 0
}
