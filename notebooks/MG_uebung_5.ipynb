{
 "cells": [
  {
   "cell_type": "markdown",
   "metadata": {},
   "source": [
    "<center> \n",
    "<h1> Mehrgittermethoden </h1> \n",
    "<h2> Übungsaufgaben </h2>\n",
    "<h3> Robert Speck & Dieter Moser, Sommersemester 2016 </h3>\n",
    "</center>\n",
    "___\n"
   ]
  },
  {
   "cell_type": "markdown",
   "metadata": {},
   "source": [
    "### Über die Hilbert-Schmidt Norm\n",
    "\n",
    "Wir definieren die Hilbert-Schmidt Norm einer Matrix $A \\in K^{n \\times n}$ als\n",
    "$$ |A| = \\left( \\frac{1}{n}\\sum_{i = 0}^{n-1}\\sum_{i = 0}^{n-1} |a_{i,j}|^2 \\right).$$\n",
    "Zeigen Sie\n",
    "1. $|A| = \\left( \\frac{1}{n}\\mbox{Spur}(A^*A) \\right)$\n",
    "2. $|A| = \\left( \\frac{1}{n}\\sum_{k=0}^{n-1}\\lambda_k\\right)$, wobei $\\lambda_k$ die Eigenwerte von $A^*A$ sind\n",
    "3. $|A| \\leq \\|A\\|$\n",
    "\n",
    "Überlegen Sie sich, warum diese Norm auch schwache Norm genannt wird."
   ]
  },
  {
   "cell_type": "markdown",
   "metadata": {},
   "source": [
    "### Über asymptotisch äquivalente Folgen von Matrizen\n",
    "Seien $\\{A_n\\}$ und $\\{B_n\\}$ Folgen von $n\\times n$ Matrizen, welche \n",
    "beschränkt bzgl. der starken Norm sind:\n",
    "$$ \\|A_n\\|,\\|B_n\\| \\leq M < \\infty, n=1,2,\\ldots $$ \n",
    "und bzgl. der schwachen Norm konvergieren\n",
    "$$\\lim_{n \\to \\infty} |A_n -B_n| = 0.$$ \n",
    "Wir nennen diese Folgen *asymptotisch äquivalent* und notieren dies als $A_n \\sim B_n$. \n",
    "Zeigen Sie nun für $\\{A_n\\}$ , $\\{B_n\\}$ und $\\{C_n\\}$, \n",
    "welche jeweils die Eigenwerte $\\{\\alpha_{n,i}\\}$,$\\{\\beta_{n,i}\\}$ und $\\{\\zeta_{n,i}\\}$ haben, \n",
    "folgende Zusammenhänge.\n",
    "\n",
    "1. Wenn $A_n \\sim B_n$, dann $\\lim_{n \\to \\infty} |A_n| = \\lim_{n \\to \\infty} |B_n| $\n",
    "2. Wenn $A_n \\sim B_n$ und $B_n \\sim C_n$, dann  $A_n \\sim C_n$\n",
    "3. Wenn $A_nB_n \\sim C_n$ und $\\|A_n^{-1}\\|\\leq K \\le \\infty$, dann gilt $B_n \\sim A_n^{-1}C_n$\n",
    "4. Wenn $A_n \\sim B_n$, dann existieren $-\\infty \\le m,M\\le \\infty$, so dass $m\\leq \\alpha_{n,i}, \\beta_{n,i}\\leq M$ für alle $n\\geq 1$ und $k\\geq 0$  \n",
    "\n",
    "\n",
    "__Tipp__: Nutzen Sie ohne Beweis, dass gilt $|GH|\\leq \\|G\\| \\cdot |H|$. Wer Lust hat, kann es aber auch gerne beweisen. "
   ]
  }
 ],
 "metadata": {
  "kernelspec": {
   "display_name": "Python 3",
   "language": "python",
   "name": "python3"
  },
  "language_info": {
   "codemirror_mode": {
    "name": "ipython",
    "version": 3
   },
   "file_extension": ".py",
   "mimetype": "text/x-python",
   "name": "python",
   "nbconvert_exporter": "python",
   "pygments_lexer": "ipython3",
   "version": "3.4.4"
  }
 },
 "nbformat": 4,
 "nbformat_minor": 0
}
